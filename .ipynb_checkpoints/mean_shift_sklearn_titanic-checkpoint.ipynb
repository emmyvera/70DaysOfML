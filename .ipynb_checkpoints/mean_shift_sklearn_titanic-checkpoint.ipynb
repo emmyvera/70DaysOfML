{
 "cells": [
  {
   "cell_type": "markdown",
   "metadata": {},
   "source": [
    "Awesome and Amazing thing to learn \n",
    "from our data so I had to <b>shift</b> to the Jupyter Note book \n",
    "for the <b>mean shift</b> Algo"
   ]
  },
  {
   "cell_type": "code",
   "execution_count": null,
   "metadata": {},
   "outputs": [],
   "source": [
    "import matplotlib.pyplot as plt\n",
    "from matplotlib import style\n",
    "style.use(\"ggplot\")\n",
    "import numpy as np\n",
    "from sklearn.cluster import MeanShift\n",
    "from sklearn import preprocessing\n",
    "import pandas as pd \n",
    "\n",
    "\n",
    "\"\"\"\n",
    "\"\"\"\n",
    "\n",
    "df = pd.read_excel(\"dataset/titanic.xls\")\n",
    "original_df = pd.DataFrame.copy(df)\n",
    "#print(df.head())\n",
    "\n",
    "df.drop([\"body\",\"name\"], 1, inplace=True)\n",
    "df.convert_objects(convert_numeric=True)\n",
    "df.fillna(0, inplace=True)\n",
    "#print(df.head())\n",
    "\n",
    "def handleCategoricalData(df):\n",
    "    columns = df.columns.values\n",
    "\n",
    "    for column in columns:\n",
    "        textDigitVal = {}\n",
    "\n",
    "        def convertToIntVal(val):\n",
    "            return textDigitVal[val]\n",
    "\n",
    "        if df[column].dtype != np.int64 and df[column].dtype != np.float64:\n",
    "            column_contents = df[column].values.tolist()\n",
    "            unique_elements = set(column_contents)\n",
    "            x=0\n",
    "            for unique in unique_elements:\n",
    "                if unique not in textDigitVal:\n",
    "                    textDigitVal[unique] = x\n",
    "                    x+=1\n",
    "\n",
    "            df[column] = list(map(convertToIntVal, df[column]))\n",
    "    return df\n",
    "\n",
    "df = handleCategoricalData(df)\n",
    "#print(df.head())\n",
    "\n",
    "X = np.array(df.drop([\"survived\"], 1).astype(float))\n",
    "X = preprocessing.scale(X)\n",
    "y = np.array(df[\"survived\"])\n",
    "\n",
    "clf = MeanShift()\n",
    "clf.fit(X)\n",
    "\n",
    "label = clf.labels_\n",
    "clusterCenters = clf.cluster_centers_\n",
    "\n",
    "original_df[\"cluster_group\"] = np.nan\n",
    "\n",
    "#Referencing the row of the (titanic) dataframe and\n",
    "#setting the value of whatever the value is in label\n",
    "for i in range(len(X)):\n",
    "    original_df[\"cluster_group\"].iloc[i] = label[i]\n",
    "\n",
    "\n",
    "nClusters_ = len(np.unique(label))\n",
    "\n",
    "survivalRates = {}\n",
    "\n",
    "for i in range(nClusters_):\n",
    "    #Creating dataframe (temp_df) where the original dataframe \n",
    "    # is equal to a particular cluster group\n",
    "    # eg (cluster 0:- when i is equal to 0)\n",
    "    temp_df = original_df[ (original_df[\"cluster_group\"] == float(i)) ]\n",
    "\n",
    "    #Now the survivalCluster is a data that\n",
    "    #describe where the people in temp_df survived\n",
    "    survivalCluster = temp_df[(temp_df[\"survived\"] == i)]\n",
    "    \n",
    "    #Calculate the survival rate of each cluster\n",
    "    survivalRate = len(survivalCluster)/len(temp_df)\n",
    "\n",
    "    #Populating our survivalRate\n",
    "    survivalRates[i] = survivalRate\n",
    "\n",
    "print(survivalRates)"
   ]
  },
  {
   "cell_type": "code",
   "execution_count": null,
   "metadata": {},
   "outputs": [],
   "source": [
    "original_df[(original_df[\"cluster_group\"] == 1)]"
   ]
  },
  {
   "cell_type": "code",
   "execution_count": null,
   "metadata": {},
   "outputs": [],
   "source": [
    "original_df[(original_df[\"cluster_group\"] == 0)].describe()"
   ]
  },
  {
   "cell_type": "code",
   "execution_count": null,
   "metadata": {},
   "outputs": [],
   "source": [
    "original_df[(original_df[\"cluster_group\"] == 2)]"
   ]
  },
  {
   "cell_type": "code",
   "execution_count": null,
   "metadata": {},
   "outputs": [],
   "source": [
    "original_df[(original_df[\"cluster_group\"] == 0)].describe()"
   ]
  },
  {
   "cell_type": "code",
   "execution_count": null,
   "metadata": {},
   "outputs": [],
   "source": [
    "original_df[(original_df[\"cluster_group\"] == 1)].describe()"
   ]
  },
  {
   "cell_type": "code",
   "execution_count": null,
   "metadata": {},
   "outputs": [],
   "source": [
    "original_df[(original_df[\"cluster_group\"] == 2)].describe()"
   ]
  },
  {
   "cell_type": "code",
   "execution_count": null,
   "metadata": {},
   "outputs": [],
   "source": [
    "#Survival rate of 1st persengers in the first cluster\n",
    "cluster0 = original_df[(original_df[\"cluster_group\"]==0)]\n",
    "cluster0_fc = cluster0[(cluster0[\"pclass\"]==1)]\n",
    "cluster0_fc.describe()"
   ]
  },
  {
   "cell_type": "code",
   "execution_count": null,
   "metadata": {},
   "outputs": [],
   "source": [
    "#Survival rate of 2nd persengers in the first cluster\n",
    "\n",
    "cluster0_sc = cluster0[(cluster0[\"pclass\"]==2)]\n",
    "cluster0_sc.describe()"
   ]
  },
  {
   "cell_type": "code",
   "execution_count": null,
   "metadata": {},
   "outputs": [],
   "source": [
    "#Survival rate of 3rd persengers in the first cluster\n",
    "cluster0_tc = cluster0[(cluster0[\"pclass\"]==3)]\n",
    "cluster0_tc.describe()"
   ]
  },
  {
   "cell_type": "code",
   "execution_count": null,
   "metadata": {},
   "outputs": [],
   "source": []
  }
 ],
 "metadata": {
  "kernelspec": {
   "display_name": "Python 3",
   "language": "python",
   "name": "python3"
  },
  "language_info": {
   "codemirror_mode": {
    "name": "ipython",
    "version": 3
   },
   "file_extension": ".py",
   "mimetype": "text/x-python",
   "name": "python",
   "nbconvert_exporter": "python",
   "pygments_lexer": "ipython3",
   "version": "3.7.3"
  }
 },
 "nbformat": 4,
 "nbformat_minor": 2
}
